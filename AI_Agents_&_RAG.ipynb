{
  "nbformat": 4,
  "nbformat_minor": 0,
  "metadata": {
    "colab": {
      "provenance": []
    },
    "kernelspec": {
      "name": "python3",
      "display_name": "Python 3"
    },
    "language_info": {
      "name": "python"
    }
  },
  "cells": [
    {
      "cell_type": "markdown",
      "source": [
        "## Basic AI Agent"
      ],
      "metadata": {
        "id": "gPD6zEmFYRwN"
      }
    },
    {
      "cell_type": "code",
      "execution_count": 2,
      "metadata": {
        "colab": {
          "base_uri": "https://localhost:8080/"
        },
        "id": "K-9JeHTLWEv5",
        "outputId": "374c9936-01a5-4348-cd6d-b431e4c66b5f"
      },
      "outputs": [
        {
          "output_type": "stream",
          "name": "stdout",
          "text": [
            "{'query': 'What is AI?', 'results': ['AI stands for Artificial Intelligence.', 'AI involves creating intelligent agents.']}\n"
          ]
        }
      ],
      "source": [
        "class SimpleAIAgent:\n",
        "    def __init__(self):\n",
        "        pass\n",
        "\n",
        "    def search(self, query):\n",
        "        # Mocked response to simulate a search result\n",
        "        return {\n",
        "            \"query\": query,\n",
        "            \"results\": [\n",
        "                \"AI stands for Artificial Intelligence.\",\n",
        "                \"AI involves creating intelligent agents.\",\n",
        "            ]\n",
        "        }\n",
        "\n",
        "# Example usage\n",
        "agent = SimpleAIAgent()\n",
        "results = agent.search(\"What is AI?\")\n",
        "print(results)\n"
      ]
    },
    {
      "cell_type": "markdown",
      "source": [
        "## Simple Retrieval-Augmented Generation (RAG)\n"
      ],
      "metadata": {
        "id": "OPZ8FjZXYEg3"
      }
    },
    {
      "cell_type": "code",
      "source": [
        "import random\n",
        "\n",
        "class SimpleRAG:\n",
        "    def __init__(self, knowledge_base):\n",
        "        self.knowledge_base = knowledge_base\n",
        "\n",
        "    def retrieve(self, query):\n",
        "        return random.choice(self.knowledge_base.get(query, [\"I don't know.\"]))\n",
        "\n",
        "    def generate(self, query):\n",
        "        retrieved_info = self.retrieve(query)\n",
        "        return f\"Based on what I found: {retrieved_info}\"\n",
        "\n",
        "# Example knowledge base\n",
        "knowledge_base = {\n",
        "    \"AI\": [\"AI stands for Artificial Intelligence.\", \"AI involves creating intelligent agents.\"],\n",
        "    \"Python\": [\"Python is a programming language.\", \"Python is used for data science, web development, and more.\"]\n",
        "}\n",
        "\n",
        "# Example usage\n",
        "rag = SimpleRAG(knowledge_base)\n",
        "response = rag.generate(\"AI\")\n",
        "print(response)\n"
      ],
      "metadata": {
        "colab": {
          "base_uri": "https://localhost:8080/"
        },
        "id": "-Mi_b-MkXjXK",
        "outputId": "74ca1f42-a851-4fa4-8e28-74f4ef6b7f57"
      },
      "execution_count": 3,
      "outputs": [
        {
          "output_type": "stream",
          "name": "stdout",
          "text": [
            "Based on what I found: AI involves creating intelligent agents.\n"
          ]
        }
      ]
    },
    {
      "cell_type": "markdown",
      "source": [
        "## Combining AI Agents with RAG"
      ],
      "metadata": {
        "id": "DsKB-UNOYX8D"
      }
    },
    {
      "cell_type": "code",
      "source": [
        "class AdvancedAIAgent:\n",
        "    def __init__(self, knowledge_base):\n",
        "        self.rag = SimpleRAG(knowledge_base)\n",
        "\n",
        "    def search_and_generate(self, query):\n",
        "        search_results = self.search(query)\n",
        "        generated_response = self.rag.generate(query)\n",
        "        return f\"Search Results: {search_results}\\n\\nGenerated Response: {generated_response}\"\n",
        "\n",
        "    def search(self, query):\n",
        "        # Mocked response to simulate a search result\n",
        "        return {\n",
        "            \"query\": query,\n",
        "            \"results\": [\n",
        "                \"AI stands for Artificial Intelligence.\",\n",
        "                \"AI involves creating intelligent agents.\",\n",
        "            ]\n",
        "        }\n",
        "\n",
        "# Example knowledge base\n",
        "knowledge_base = {\n",
        "    \"AI\": [\"AI stands for Artificial Intelligence.\", \"AI involves creating intelligent agents.\"],\n",
        "    \"Python\": [\"Python is a programming language.\", \"Python is used for data science, web development, and more.\"]\n",
        "}\n",
        "\n",
        "# Example usage\n",
        "agent = AdvancedAIAgent(knowledge_base)\n",
        "response = agent.search_and_generate(\"AI\")\n",
        "print(response)\n"
      ],
      "metadata": {
        "colab": {
          "base_uri": "https://localhost:8080/"
        },
        "id": "UsBFE_XCYs5_",
        "outputId": "ccd48fda-51ea-45b5-c608-502bec2e5a2b"
      },
      "execution_count": 6,
      "outputs": [
        {
          "output_type": "stream",
          "name": "stdout",
          "text": [
            "Search Results: {'query': 'AI', 'results': ['AI stands for Artificial Intelligence.', 'AI involves creating intelligent agents.']}\n",
            "\n",
            "Generated Response: Based on what I found: AI stands for Artificial Intelligence.\n"
          ]
        }
      ]
    }
  ]
}